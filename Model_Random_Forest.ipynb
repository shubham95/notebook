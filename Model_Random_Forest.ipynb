{
 "cells": [
  {
   "cell_type": "code",
   "execution_count": 6,
   "metadata": {},
   "outputs": [],
   "source": [
    "import pandas as pd\n",
    "import numpy as np \n",
    "from sklearn.model_selection import  train_test_split\n",
    "from sklearn.ensemble        import  RandomForestClassifier\n",
    "from sklearn.metrics         import  roc_auc_score\n",
    "import gc\n"
   ]
  },
  {
   "cell_type": "code",
   "execution_count": 2,
   "metadata": {},
   "outputs": [
    {
     "name": "stdout",
     "output_type": "stream",
     "text": [
      "loading train data...\n"
     ]
    }
   ],
   "source": [
    "path = \"mnt/ssd/kaggle-talkingdata2/competition_files/\"\n",
    "\n",
    "dtypes = {'ip'           : 'uint32',\n",
    "          'app'          : 'uint16',\n",
    "          'device'       : 'uint16',\n",
    "          'os'           : 'uint16',\n",
    "          'channel'      : 'uint16',\n",
    "          'is_attributed': 'uint8' ,\n",
    "          'click_id'     : 'uint32'\n",
    "    \n",
    "         }\n",
    "print('loading train data...')\n",
    "\n",
    "train_df = pd.read_csv(path+\"train.csv\", dtype = dtypes, usecols = ['ip','app','device','os','channel','click_time','is_attributed'])\n",
    "# total observation : 184,903,891"
   ]
  },
  {
   "cell_type": "code",
   "execution_count": 4,
   "metadata": {},
   "outputs": [],
   "source": [
    "train_df['hour'] = pd.to_datetime(train_df.click_time).dt.hour.astype('uint8')\n",
    "train_df['day']  = pd.to_datetime(train_df.click_time).dt.day.astype('uint8')\n",
    "train_df['min']  = pd.to_datetime(train_df.click_time).dt.minute.astype('uint8')\n",
    "train_df.drop(['click_time'], axis=1, inplace=True)\n",
    "y = train_df['is_attributed']\n",
    "\n",
    "train_df.drop(['is_attributed'], axis=1, inplace=True)"
   ]
  },
  {
   "cell_type": "code",
   "execution_count": 7,
   "metadata": {},
   "outputs": [
    {
     "data": {
      "text/plain": [
       "29"
      ]
     },
     "execution_count": 7,
     "metadata": {},
     "output_type": "execute_result"
    }
   ],
   "source": [
    "x_train, x_test, y_train, y_test =train_test_split(train_df, y, test_size=0.2, random_state =99)\n",
    "x_train, x_cv, y_train, y_cv =train_test_split(x_train, y_train, test_size=0.2, random_state =99)\n",
    "gc.collect()"
   ]
  },
  {
   "cell_type": "code",
   "execution_count": null,
   "metadata": {},
   "outputs": [
    {
     "name": "stdout",
     "output_type": "stream",
     "text": [
      "for n_estimators = 100 and max depth =  5\n"
     ]
    }
   ],
   "source": [
    "# random forest with parameter tuning\n",
    "\n",
    "alpha = [100,200,400,700,1000]\n",
    "max_depth = [5, 10]\n",
    "cv_roc_score_array = []\n",
    "for i in alpha:\n",
    "    for j in max_depth:\n",
    "        print(\"for n_estimators =\", i,\"and max depth = \", j)\n",
    "        clf = RandomForestClassifier(n_estimators=i, criterion='gini', max_depth=j, random_state=42, n_jobs=-1,class_weight =\"balanced\")\n",
    "        clf.fit(x_train, y_train)\n",
    "        y_predicted = clf.predict(x_cv)\n",
    "        score = roc_auc_score(y_cv, y_predicted)\n",
    "        cv_roc_score_array.append(score)\n",
    "        print(\"Roc Score :\",score) \n",
    "\n",
    "\n",
    "best_alpha = np.argmax(cv_roc_score_array)\n",
    "clf = RandomForestClassifier(n_estimators=alpha[int(best_alpha)], criterion='gini', max_depth=max_depth[int(best_alpha)], random_state=42, n_jobs=-1,class_weight =\"balanced\")\n",
    "clf.fit(x_train, train_y)\n",
    "\n",
    "y_predict = clf.predict(x_train)\n",
    "print('For values of best alpha = ', alpha[best_alpha], \"The roc score is:\",metrics.roc_auc_score(y_train, y_predict))\n",
    "y_predict = clf.predict(x_cv)\n",
    "print('For values of best alpha = ', alpha[best_alpha], \"The roc score is:\",metrics.roc_auc_score(y_cv, y_predict))\n",
    "y_predict = clf.predict(x_test)\n",
    "print('For values of best alpha = ', alpha[best_alpha], \"The roc score is:\",metrics.roc_auc_score(y_test, y_predict))"
   ]
  },
  {
   "cell_type": "code",
   "execution_count": null,
   "metadata": {},
   "outputs": [],
   "source": []
  }
 ],
 "metadata": {
  "kernelspec": {
   "display_name": "Python 3",
   "language": "python",
   "name": "python3"
  },
  "language_info": {
   "codemirror_mode": {
    "name": "ipython",
    "version": 3
   },
   "file_extension": ".py",
   "mimetype": "text/x-python",
   "name": "python",
   "nbconvert_exporter": "python",
   "pygments_lexer": "ipython3",
   "version": "3.6.4"
  }
 },
 "nbformat": 4,
 "nbformat_minor": 2
}
