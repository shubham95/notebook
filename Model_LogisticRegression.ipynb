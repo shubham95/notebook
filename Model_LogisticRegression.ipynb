{
 "cells": [
  {
   "cell_type": "markdown",
   "metadata": {},
   "source": [
    "#                                        Logistic Regression"
   ]
  },
  {
   "cell_type": "code",
   "execution_count": 31,
   "metadata": {},
   "outputs": [],
   "source": [
    "import pandas as pd\n",
    "import time\n",
    "import numpy as np\n",
    "from sklearn.cross_validation import train_test_split\n",
    "from sklearn.feature_extraction.text import CountVectorizer\n",
    "from sklearn import metrics\n",
    "from sklearn.calibration import CalibratedClassifierCV\n",
    "from sklearn.linear_model import LogisticRegression\n",
    "from sklearn.linear_model import SGDClassifier\n",
    "from scipy.sparse import hstack\n",
    "import matplotlib.pyplot as plt\n",
    "import gc"
   ]
  },
  {
   "cell_type": "code",
   "execution_count": 55,
   "metadata": {},
   "outputs": [
    {
     "name": "stdout",
     "output_type": "stream",
     "text": [
      "loading train data...\n"
     ]
    }
   ],
   "source": [
    "#loading dataset\n",
    "path = \"mnt/ssd/kaggle-talkingdata2/competition_files/\"\n",
    "\n",
    "dtypes = {'ip'           : 'uint32',\n",
    "          'app'          : 'uint16',\n",
    "          'device'       : 'uint16',\n",
    "          'os'           : 'uint16',\n",
    "          'channel'      : 'uint16',\n",
    "          'is_attributed': 'uint8' ,\n",
    "          'click_id'     : 'uint32'\n",
    "    \n",
    "         }\n",
    "print('loading train data...')\n",
    "\n",
    "train_df = pd.read_csv(path+\"train.csv\", dtype = dtypes, usecols = ['ip','app','device','os','channel','click_time','is_attributed'])\n",
    "# total observation : 184,903,891"
   ]
  },
  {
   "cell_type": "code",
   "execution_count": 56,
   "metadata": {},
   "outputs": [],
   "source": [
    "#Randomly sampling \n",
    "train_df_class0 = train_df[train_df['is_attributed']==0]\n",
    "train_df_class1 = train_df[train_df['is_attributed']==1]\n",
    "chosen_indexes = np.random.choice(184447044,replace=False,size=456846)\n",
    "train_df_class0 = train_df_class0.iloc[chosen_indexes]\n",
    "frames = [train_df_class0,train_df_class1]\n",
    "train_df = pd.concat(frames)\n",
    "train_df = train_df.sort_values('click_time', axis=0, ascending=True, inplace=False, kind='quicksort', na_position='last')"
   ]
  },
  {
   "cell_type": "code",
   "execution_count": 57,
   "metadata": {},
   "outputs": [
    {
     "data": {
      "text/plain": [
       "437"
      ]
     },
     "execution_count": 57,
     "metadata": {},
     "output_type": "execute_result"
    }
   ],
   "source": [
    "gc.collect()\n"
   ]
  },
  {
   "cell_type": "code",
   "execution_count": 58,
   "metadata": {},
   "outputs": [
    {
     "data": {
      "text/html": [
       "<div>\n",
       "<style scoped>\n",
       "    .dataframe tbody tr th:only-of-type {\n",
       "        vertical-align: middle;\n",
       "    }\n",
       "\n",
       "    .dataframe tbody tr th {\n",
       "        vertical-align: top;\n",
       "    }\n",
       "\n",
       "    .dataframe thead th {\n",
       "        text-align: right;\n",
       "    }\n",
       "</style>\n",
       "<table border=\"1\" class=\"dataframe\">\n",
       "  <thead>\n",
       "    <tr style=\"text-align: right;\">\n",
       "      <th></th>\n",
       "      <th>ip</th>\n",
       "      <th>app</th>\n",
       "      <th>device</th>\n",
       "      <th>os</th>\n",
       "      <th>channel</th>\n",
       "      <th>click_time</th>\n",
       "      <th>is_attributed</th>\n",
       "    </tr>\n",
       "  </thead>\n",
       "  <tbody>\n",
       "    <tr>\n",
       "      <th>103</th>\n",
       "      <td>204158</td>\n",
       "      <td>35</td>\n",
       "      <td>1</td>\n",
       "      <td>13</td>\n",
       "      <td>21</td>\n",
       "      <td>2017-11-06 15:41:07</td>\n",
       "      <td>1</td>\n",
       "    </tr>\n",
       "    <tr>\n",
       "      <th>164</th>\n",
       "      <td>182818</td>\n",
       "      <td>3</td>\n",
       "      <td>1</td>\n",
       "      <td>19</td>\n",
       "      <td>379</td>\n",
       "      <td>2017-11-06 15:43:34</td>\n",
       "      <td>0</td>\n",
       "    </tr>\n",
       "    <tr>\n",
       "      <th>281</th>\n",
       "      <td>84942</td>\n",
       "      <td>3</td>\n",
       "      <td>1</td>\n",
       "      <td>13</td>\n",
       "      <td>379</td>\n",
       "      <td>2017-11-06 15:49:37</td>\n",
       "      <td>0</td>\n",
       "    </tr>\n",
       "    <tr>\n",
       "      <th>428</th>\n",
       "      <td>107922</td>\n",
       "      <td>3</td>\n",
       "      <td>1</td>\n",
       "      <td>19</td>\n",
       "      <td>379</td>\n",
       "      <td>2017-11-06 15:57:30</td>\n",
       "      <td>0</td>\n",
       "    </tr>\n",
       "    <tr>\n",
       "      <th>1055</th>\n",
       "      <td>92873</td>\n",
       "      <td>3</td>\n",
       "      <td>1</td>\n",
       "      <td>1</td>\n",
       "      <td>379</td>\n",
       "      <td>2017-11-06 16:00:01</td>\n",
       "      <td>0</td>\n",
       "    </tr>\n",
       "  </tbody>\n",
       "</table>\n",
       "</div>"
      ],
      "text/plain": [
       "          ip  app  device  os  channel           click_time  is_attributed\n",
       "103   204158   35       1  13       21  2017-11-06 15:41:07              1\n",
       "164   182818    3       1  19      379  2017-11-06 15:43:34              0\n",
       "281    84942    3       1  13      379  2017-11-06 15:49:37              0\n",
       "428   107922    3       1  19      379  2017-11-06 15:57:30              0\n",
       "1055   92873    3       1   1      379  2017-11-06 16:00:01              0"
      ]
     },
     "execution_count": 58,
     "metadata": {},
     "output_type": "execute_result"
    }
   ],
   "source": [
    "train_df.head()"
   ]
  },
  {
   "cell_type": "code",
   "execution_count": 59,
   "metadata": {},
   "outputs": [
    {
     "name": "stdout",
     "output_type": "stream",
     "text": [
      "Extracting day and hour...\n"
     ]
    },
    {
     "data": {
      "text/plain": [
       "28"
      ]
     },
     "execution_count": 59,
     "metadata": {},
     "output_type": "execute_result"
    }
   ],
   "source": [
    "print('Extracting day and hour...')\n",
    "train_df['hour'] = pd.to_datetime(train_df.click_time).dt.hour.astype('uint8')\n",
    "train_df['day']  = pd.to_datetime(train_df.click_time).dt.day.astype('uint8')\n",
    "train_df['min']  = pd.to_datetime(train_df.click_time).dt.minute.astype('uint8')\n",
    "train_df.drop(['click_time'], axis=1, inplace=True)\n",
    "y = train_df['is_attributed']\n",
    "\n",
    "train_df.drop(['is_attributed','ip'], axis=1, inplace=True)\n",
    "\n",
    "gc.collect()"
   ]
  },
  {
   "cell_type": "code",
   "execution_count": 60,
   "metadata": {},
   "outputs": [],
   "source": [
    "train_df['app']       =  train_df['app'].astype(str)\n",
    "train_df['device']    =  train_df['device'].astype(str)\n",
    "train_df['os']        =  train_df['os'].astype(str)\n",
    "train_df['channel']   =  train_df['channel'].astype(str)"
   ]
  },
  {
   "cell_type": "code",
   "execution_count": 61,
   "metadata": {},
   "outputs": [],
   "source": [
    "#One hot encoding of categorical variable\n",
    "one_hot_encoding = CountVectorizer()\n",
    "app_one_hot      =  one_hot_encoding.fit_transform(train_df['app'].values)\n",
    "device_one_hot   =  one_hot_encoding.transform(train_df['device'].values)\n",
    "os_one_hot       =  one_hot_encoding.transform(train_df['os'].values)\n",
    "channel_one_hot  =  one_hot_encoding.transform(train_df['channel'].values)\n"
   ]
  },
  {
   "cell_type": "code",
   "execution_count": 62,
   "metadata": {},
   "outputs": [],
   "source": [
    "time_df    = train_df[['hour','day','min']]\n",
    "train_df_1 = hstack((app_one_hot, device_one_hot,os_one_hot) )\n",
    "train_df   = hstack((train_df_1, channel_one_hot,time_df) )"
   ]
  },
  {
   "cell_type": "code",
   "execution_count": 63,
   "metadata": {},
   "outputs": [
    {
     "data": {
      "text/plain": [
       "70"
      ]
     },
     "execution_count": 63,
     "metadata": {},
     "output_type": "execute_result"
    }
   ],
   "source": [
    "x_train, x_test, y_train, y_test =train_test_split(train_df, y, test_size=0.2, random_state =99)\n",
    "x_train, x_cv, y_train, y_cv =train_test_split(x_train, y_train, test_size=0.2, random_state =99)\n",
    "gc.collect()"
   ]
  },
  {
   "cell_type": "code",
   "execution_count": 64,
   "metadata": {},
   "outputs": [
    {
     "name": "stdout",
     "output_type": "stream",
     "text": [
      "for alpha = 1e-06\n"
     ]
    },
    {
     "name": "stderr",
     "output_type": "stream",
     "text": [
      "/home/shubham95pandey/anaconda3/lib/python3.6/site-packages/sklearn/linear_model/stochastic_gradient.py:128: FutureWarning: max_iter and tol parameters have been added in <class 'sklearn.linear_model.stochastic_gradient.SGDClassifier'> in 0.19. If both are left unset, they default to max_iter=5 and tol=None. If tol is not None, max_iter defaults to max_iter=1000. From 0.21, default max_iter will be 1000, and default tol will be 1e-3.\n",
      "  \"and default tol will be 1e-3.\" % type(self), FutureWarning)\n"
     ]
    },
    {
     "name": "stdout",
     "output_type": "stream",
     "text": [
      "roc Score : 0.8031865272031246\n",
      "for alpha = 1e-05\n",
      "roc Score : 0.8315237457670324\n",
      "for alpha = 0.0001\n",
      "roc Score : 0.6886699821228168\n",
      "for alpha = 0.001\n",
      "roc Score : 0.8288951146945622\n",
      "for alpha = 0.01\n",
      "roc Score : 0.8603703726350416\n",
      "for alpha = 0.1\n",
      "roc Score : 0.7976666339487188\n",
      "for alpha = 1\n",
      "roc Score : 0.6080013222909688\n",
      "for alpha = 10\n",
      "roc Score : 0.5378403147821071\n",
      "for alpha = 100\n",
      "roc Score : 0.5226146809413047\n"
     ]
    },
    {
     "data": {
      "image/png": "[encoded data removed]",
      "text/plain": [
       "<matplotlib.figure.Figure at 0x7f0cad1869e8>"
      ]
     },
     "metadata": {},
     "output_type": "display_data"
    },
    {
     "name": "stdout",
     "output_type": "stream",
     "text": [
      "For values of best alpha =  0.01 The roc score is: 0.8603596996991136\n",
      "For values of best alpha =  0.01 The roc score is: 0.8603703726350416\n",
      "For values of best alpha =  0.01 The roc score is: 0.860703831926135\n"
     ]
    }
   ],
   "source": [
    "#logistic Regression\n",
    "\n",
    "alpha = [10 ** x for x in range(-6, 3)]\n",
    "cv_roc_score_array = []\n",
    "for i in alpha:\n",
    "    print(\"for alpha =\", i)\n",
    "    clf = SGDClassifier(class_weight='balanced', alpha=i, penalty='l2', loss='log', random_state=42)\n",
    "    clf.fit(x_train, y_train)\n",
    "    y_predict = clf.predict(x_cv)\n",
    "    cv_roc_score_array.append(metrics.roc_auc_score(y_cv, y_predict))\n",
    "    print(\"roc Score :\",metrics.roc_auc_score(y_cv, y_predict)) \n",
    "\n",
    "fig, ax = plt.subplots()\n",
    "ax.plot(alpha, cv_roc_score_array,c='g')\n",
    "for i, txt in enumerate(np.round(cv_roc_score_array,3)):\n",
    "    ax.annotate((alpha[i],str(txt)), (alpha[i],cv_roc_score_array[i]))\n",
    "plt.grid()\n",
    "plt.title(\"Cross Validation score for each alpha\")\n",
    "plt.xlabel(\"Alpha i's\")\n",
    "plt.ylabel(\"Score measure\")\n",
    "plt.show()\n",
    "\n",
    "\n",
    "best_alpha = np.argmax(cv_roc_score_array)\n",
    "clf = SGDClassifier(class_weight='balanced', alpha=alpha[best_alpha], penalty='l2', loss='log', random_state=42)\n",
    "clf.fit(x_train, y_train)\n",
    "\n",
    "y_predict = clf.predict(x_train)\n",
    "print('For values of best alpha = ', alpha[best_alpha], \"The roc score is:\",metrics.roc_auc_score(y_train, y_predict))\n",
    "y_predict = clf.predict(x_cv)\n",
    "print('For values of best alpha = ', alpha[best_alpha], \"The roc score is:\",metrics.roc_auc_score(y_cv, y_predict))\n",
    "y_predict = clf.predict(x_test)\n",
    "print('For values of best alpha = ', alpha[best_alpha], \"The roc score is:\",metrics.roc_auc_score(y_test, y_predict))"
   ]
  },
  {
   "cell_type": "code",
   "execution_count": null,
   "metadata": {},
   "outputs": [],
   "source": []
  }
 ],
 "metadata": {
  "kernelspec": {
   "display_name": "Python 3",
   "language": "python",
   "name": "python3"
  },
  "language_info": {
   "codemirror_mode": {
    "name": "ipython",
    "version": 3
   },
   "file_extension": ".py",
   "mimetype": "text/x-python",
   "name": "python",
   "nbconvert_exporter": "python",
   "pygments_lexer": "ipython3",
   "version": "3.6.4"
  }
 },
 "nbformat": 4,
 "nbformat_minor": 2
}
