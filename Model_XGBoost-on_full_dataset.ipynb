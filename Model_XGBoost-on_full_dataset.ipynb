{
 "cells": [
  {
   "cell_type": "markdown",
   "metadata": {},
   "source": [
    "#                                                    XGBoost"
   ]
  },
  {
   "cell_type": "code",
   "execution_count": 1,
   "metadata": {},
   "outputs": [
    {
     "name": "stderr",
     "output_type": "stream",
     "text": [
      "/home/shubham95pandey/anaconda3/lib/python3.6/site-packages/sklearn/cross_validation.py:41: DeprecationWarning: This module was deprecated in version 0.18 in favor of the model_selection module into which all the refactored classes and functions are moved. Also note that the interface of the new CV iterators are different from that of this module. This module will be removed in 0.20.\n",
      "  \"This module will be removed in 0.20.\", DeprecationWarning)\n"
     ]
    }
   ],
   "source": [
    "import pandas as pd\n",
    "import time\n",
    "import numpy as np\n",
    "from sklearn.cross_validation import train_test_split\n",
    "import xgboost as xgb\n",
    "from xgboost import plot_tree\n",
    "from xgboost import plot_importance\n",
    "import matplotlib.pyplot as plt\n",
    "import gc"
   ]
  },
  {
   "cell_type": "code",
   "execution_count": 2,
   "metadata": {},
   "outputs": [
    {
     "name": "stdout",
     "output_type": "stream",
     "text": [
      "loading train data...\n"
     ]
    }
   ],
   "source": [
    "#loading dataset\n",
    "path = \"mnt/ssd/kaggle-talkingdata2/competition_files/\"\n",
    "\n",
    "dtypes = {'ip'           : 'uint32',\n",
    "          'app'          : 'uint16',\n",
    "          'device'       : 'uint16',\n",
    "          'os'           : 'uint16',\n",
    "          'channel'      : 'uint16',\n",
    "          'is_attributed': 'uint8' ,\n",
    "          'click_id'     : 'uint32'\n",
    "    \n",
    "         }\n",
    "print('loading train data...')\n",
    "\n",
    "train_df = pd.read_csv(path+\"train.csv\", dtype = dtypes, usecols = ['ip','app','device','os','channel','click_time','is_attributed'])\n",
    "# total observation : 184,903,891"
   ]
  },
  {
   "cell_type": "code",
   "execution_count": 3,
   "metadata": {},
   "outputs": [],
   "source": [
    "# Getting Label\n",
    "y = train_df['is_attributed']\n",
    "train_df.drop(['is_attributed'], axis=1, inplace=True)"
   ]
  },
  {
   "cell_type": "code",
   "execution_count": 4,
   "metadata": {},
   "outputs": [
    {
     "name": "stdout",
     "output_type": "stream",
     "text": [
      "loading test data....\n"
     ]
    }
   ],
   "source": [
    "print('loading test data....')\n",
    "test_df = pd.read_csv(\"testfolder/test.csv\", dtype = dtypes , usecols =['ip','app','device','os','channel','click_time','click_id'])\n"
   ]
  },
  {
   "cell_type": "code",
   "execution_count": 5,
   "metadata": {},
   "outputs": [
    {
     "data": {
      "text/plain": [
       "42"
      ]
     },
     "execution_count": 5,
     "metadata": {},
     "output_type": "execute_result"
    }
   ],
   "source": [
    "sub = pd.DataFrame()\n",
    "sub['click_id'] = test_df['click_id']\n",
    "test_df.drop(['click_id'], axis=1, inplace = True)\n",
    "\n",
    "len_train =len(train_df)\n",
    "train_df = train_df.append(test_df)\n",
    "\n",
    "del test_df\n",
    "gc.collect()"
   ]
  },
  {
   "cell_type": "code",
   "execution_count": 6,
   "metadata": {},
   "outputs": [
    {
     "name": "stdout",
     "output_type": "stream",
     "text": [
      "Extracting day and hour...\n"
     ]
    },
    {
     "data": {
      "text/plain": [
       "21"
      ]
     },
     "execution_count": 6,
     "metadata": {},
     "output_type": "execute_result"
    }
   ],
   "source": [
    "print('Extracting day and hour...')\n",
    "train_df['hour'] = pd.to_datetime(train_df.click_time).dt.hour.astype('uint8')\n",
    "train_df['day']  = pd.to_datetime(train_df.click_time).dt.day.astype('uint8')\n",
    "train_df.drop(['click_time'], axis=1, inplace=True)\n",
    "gc.collect()"
   ]
  },
  {
   "cell_type": "code",
   "execution_count": 7,
   "metadata": {},
   "outputs": [
    {
     "name": "stdout",
     "output_type": "stream",
     "text": [
      "train size:  184903890\n",
      "test size:  18790469\n"
     ]
    }
   ],
   "source": [
    "test = train_df[len_train:]\n",
    "train = train_df[:(len_train)]\n",
    "gc.collect()\n",
    "\n",
    "print(\"train size: \", len(train))\n",
    "print(\"test size: \", len(test))"
   ]
  },
  {
   "cell_type": "code",
   "execution_count": 8,
   "metadata": {},
   "outputs": [],
   "source": [
    "\"\"\"\n",
    "XGBoost parameters tuning guide:\n",
    "https://github.com/dmlc/xgboost/blob/master/doc/how_to/param_tuning.md\n",
    "https://github.com/dmlc/xgboost/blob/master/doc/parameter.md\n",
    "\"\"\"\n",
    "\n",
    "params = {'eta': 0.6,\n",
    "          'tree_method': \"hist\",       #Fast histogram optimized approximate greedy algorithm.\n",
    "          'grow_policy': \"lossguide\",  #split at nodes with highest loss change\n",
    "          'max_leaves' : 1400,         # Maximum number of nodes to be added .(for lossguide grow policy)\n",
    "          'max_depth'  : 0,            # 0 means no limit (useful only for depth wise grow policy)\n",
    "          'subsample'  : 0.9,\n",
    "          'colsample_bytree':0.7,\n",
    "          'colsample_bylevel':0.7,\n",
    "          'min_child_weight':0,         #the larger the more conservative the algorithm will be\n",
    "          'alpha':4,                    # L1 regularization on weights | default = 0| Large value == more conservative model\n",
    "          'objective':'binary:logistic',\n",
    "          'scale_pos_weight':99,         # because training data is extremely unbalanced\n",
    "          'eval_metric' : 'auc',\n",
    "          'nthread' : 8,\n",
    "          'random_state' : 84,\n",
    "          'silent': True\n",
    "         }"
   ]
  },
  {
   "cell_type": "code",
   "execution_count": 9,
   "metadata": {},
   "outputs": [
    {
     "data": {
      "text/plain": [
       "11"
      ]
     },
     "execution_count": 9,
     "metadata": {},
     "output_type": "execute_result"
    }
   ],
   "source": [
    "#spliting data\n",
    "\n",
    "x1, x2, y1, y2 =train_test_split(train, y, test_size=0.1, random_state =99)\n",
    "\n",
    "del train\n",
    "gc.collect()"
   ]
  },
  {
   "cell_type": "code",
   "execution_count": 10,
   "metadata": {},
   "outputs": [
    {
     "name": "stdout",
     "output_type": "stream",
     "text": [
      "[0]\ttrain-auc:0.962028\tvalid-auc:0.961052\n",
      "Multiple eval metrics have been passed: 'valid-auc' will be used for early stopping.\n",
      "\n",
      "Will train until valid-auc hasn't improved in 20 rounds.\n",
      "[1]\ttrain-auc:0.966182\tvalid-auc:0.965266\n",
      "[2]\ttrain-auc:0.967078\tvalid-auc:0.96605\n",
      "[3]\ttrain-auc:0.967629\tvalid-auc:0.966247\n",
      "[4]\ttrain-auc:0.970186\tvalid-auc:0.968337\n",
      "[5]\ttrain-auc:0.970791\tvalid-auc:0.96842\n",
      "[6]\ttrain-auc:0.972608\tvalid-auc:0.969331\n",
      "[7]\ttrain-auc:0.973275\tvalid-auc:0.96935\n",
      "[8]\ttrain-auc:0.973538\tvalid-auc:0.969653\n",
      "[9]\ttrain-auc:0.974817\tvalid-auc:0.970617\n",
      "[10]\ttrain-auc:0.97523\tvalid-auc:0.970323\n",
      "[11]\ttrain-auc:0.975724\tvalid-auc:0.969929\n",
      "[12]\ttrain-auc:0.975982\tvalid-auc:0.969786\n",
      "[13]\ttrain-auc:0.976125\tvalid-auc:0.96955\n",
      "[14]\ttrain-auc:0.976546\tvalid-auc:0.969765\n",
      "[15]\ttrain-auc:0.97693\tvalid-auc:0.96965\n",
      "[16]\ttrain-auc:0.976983\tvalid-auc:0.969312\n",
      "[17]\ttrain-auc:0.977276\tvalid-auc:0.969249\n",
      "[18]\ttrain-auc:0.977433\tvalid-auc:0.968862\n",
      "[19]\ttrain-auc:0.977448\tvalid-auc:0.96893\n",
      "[20]\ttrain-auc:0.977494\tvalid-auc:0.968619\n",
      "[21]\ttrain-auc:0.977602\tvalid-auc:0.968596\n",
      "[22]\ttrain-auc:0.977937\tvalid-auc:0.968424\n",
      "[23]\ttrain-auc:0.978186\tvalid-auc:0.968428\n",
      "[24]\ttrain-auc:0.978249\tvalid-auc:0.968267\n",
      "[25]\ttrain-auc:0.978325\tvalid-auc:0.967977\n",
      "[26]\ttrain-auc:0.978569\tvalid-auc:0.967786\n",
      "[27]\ttrain-auc:0.97852\tvalid-auc:0.967696\n",
      "[28]\ttrain-auc:0.978566\tvalid-auc:0.967584\n",
      "[29]\ttrain-auc:0.978685\tvalid-auc:0.967474\n",
      "Stopping. Best iteration:\n",
      "[9]\ttrain-auc:0.974817\tvalid-auc:0.970617\n",
      "\n",
      "[1903.432599067688]: Training time for Histogram Optimized XGBoost model\n"
     ]
    }
   ],
   "source": [
    "# watch list to observe the change in error in training and hold out data\n",
    "start_time = time.time()\n",
    "\n",
    "watchlist = [(xgb.DMatrix(x1, y1), 'train'), (xgb.DMatrix(x2, y2), 'valid')]\n",
    "\n",
    "model = xgb.train(params, xgb.DMatrix(x1, y1), 50, watchlist, maximize=True, early_stopping_rounds = 20, verbose_eval =1)\n",
    "\n",
    "del x1, x2, y1, y2\n",
    "gc.collect()\n",
    "\n",
    "print('[{}]: Training time for Histogram Optimized XGBoost model'.format(time.time() - start_time))"
   ]
  },
  {
   "cell_type": "code",
   "execution_count": 11,
   "metadata": {},
   "outputs": [
    {
     "name": "stdout",
     "output_type": "stream",
     "text": [
      "predicting....\n",
      "Extraction feature importance matrix\n",
      "Completed.....\n"
     ]
    },
    {
     "data": {
      "image/png": "[encoded data removed]",
      "text/plain": [
       "<matplotlib.figure.Figure at 0x7f17c845abe0>"
      ]
     },
     "metadata": {},
     "output_type": "display_data"
    }
   ],
   "source": [
    "print(\"predicting....\")\n",
    "sub['is_attributed'] = model.predict(xgb.DMatrix(test), ntree_limit=model.best_ntree_limit)\n",
    "sub.to_csv('sub_xgb_hist_pos_weight.csv', index = False)\n",
    "\n",
    "\n",
    "#Model evaluation\n",
    "\n",
    "print(\"Extraction feature importance matrix\")\n",
    "\n",
    "plot_importance(model)\n",
    "plt.gcf().savefig('xgb_fe.png')\n",
    "\n",
    "print(\"Completed.....\")"
   ]
  },
  {
   "cell_type": "code",
   "execution_count": null,
   "metadata": {},
   "outputs": [],
   "source": []
  }
 ],
 "metadata": {
  "kernelspec": {
   "display_name": "Python 3",
   "language": "python",
   "name": "python3"
  },
  "language_info": {
   "codemirror_mode": {
    "name": "ipython",
    "version": 3
   },
   "file_extension": ".py",
   "mimetype": "text/x-python",
   "name": "python",
   "nbconvert_exporter": "python",
   "pygments_lexer": "ipython3",
   "version": "3.6.4"
  }
 },
 "nbformat": 4,
 "nbformat_minor": 2
}
